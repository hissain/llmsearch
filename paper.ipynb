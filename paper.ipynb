{
 "cells": [
  {
   "cell_type": "code",
   "execution_count": 1,
   "id": "70d64d40",
   "metadata": {},
   "outputs": [
    {
     "data": {
      "text/plain": [
       "True"
      ]
     },
     "execution_count": 1,
     "metadata": {},
     "output_type": "execute_result"
    }
   ],
   "source": [
    "import os\n",
    "from dotenv import load_dotenv, get_key\n",
    "load_dotenv()"
   ]
  },
  {
   "cell_type": "code",
   "execution_count": 2,
   "id": "307e3eb9",
   "metadata": {},
   "outputs": [
    {
     "name": "stderr",
     "output_type": "stream",
     "text": [
      "/var/folders/qz/jy_v70tj0792_gq7d947v1pw0000gn/T/ipykernel_71571/3199259394.py:31: LangChainDeprecationWarning: The class `LLMChain` was deprecated in LangChain 0.1.17 and will be removed in 1.0. Use :meth:`~RunnableSequence, e.g., `prompt | llm`` instead.\n",
      "  abstract_chain = LLMChain(llm=llm, prompt=abstract_prompt)\n",
      "/var/folders/qz/jy_v70tj0792_gq7d947v1pw0000gn/T/ipykernel_71571/3199259394.py:39: LangChainDeprecationWarning: The method `Chain.run` was deprecated in langchain 0.1.0 and will be removed in 1.0. Use :meth:`~invoke` instead.\n",
      "  results = workflow_chain.run(idea_description)\n"
     ]
    },
    {
     "name": "stdout",
     "output_type": "stream",
     "text": [
      "**Introduction**\n",
      "* Introduce the challenges of academic writing and the need for automation.\n",
      "* Present the proposed AI-powered tool for generating IEEE-compliant research papers.\n",
      "* Highlight the tool's key features and benefits.\n",
      "\n",
      "**Related Work**\n",
      "* Review existing research on AI-assisted writing tools.\n",
      "* Discuss the limitations of current approaches and how the proposed tool addresses them.\n",
      "* Position the proposed tool within the broader context of academic writing automation.\n",
      "\n",
      "**Problem Statement**\n",
      "* Clearly define the problem that the proposed tool aims to solve.\n",
      "* Explain the specific challenges faced by researchers in generating IEEE-compliant papers.\n",
      "* Quantify the impact of these challenges on research productivity and innovation.\n",
      "\n",
      "**Proposed Methodology**\n",
      "* Describe the overall architecture and workflow of the proposed tool.\n",
      "* Explain the underlying AI techniques used for text generation, semantic search, and diagram creation.\n",
      "* Discuss the specific algorithms and models employed by the tool.\n",
      "\n",
      "**Experiments/Results**\n",
      "* Describe the experimental setup used to evaluate the tool's performance.\n",
      "* Present quantitative and qualitative results demonstrating the tool's ability to generate IEEE-compliant papers.\n",
      "* Compare the tool's performance to existing approaches or human-generated papers.\n",
      "\n",
      "**Conclusion**\n",
      "* Summarize the main findings of the research.\n",
      "* Highlight the significance of the proposed tool for academic writing.\n",
      "* Discuss the potential impact of the tool on research productivity and scientific progress.\n",
      "\n",
      "**Future Work**\n",
      "* Outline potential directions for future research and development.\n",
      "* Discuss possible enhancements to the tool's capabilities and functionality.\n",
      "* Explore the broader implications of AI-assisted writing for academic publishing and research ethics.\n"
     ]
    }
   ],
   "source": [
    "from langchain.chains import LLMChain, SimpleSequentialChain\n",
    "from langchain.prompts import PromptTemplate\n",
    "from langchain_google_genai import ChatGoogleGenerativeAI\n",
    "from langchain_core.prompts import PromptTemplate\n",
    "\n",
    "llm = ChatGoogleGenerativeAI(\n",
    "    model=\"gemini-pro\",\n",
    "    google_api_key=os.getenv('GEMINI_API_KEY'),\n",
    "    temperature=0.1\n",
    ")\n",
    "\n",
    "abstract_prompt = PromptTemplate(\n",
    "    input_variables=[\"idea_description\"],\n",
    "    template=(\n",
    "        \"You are an expert in academic writing. Based on the following idea description, generate a concise and well-structured abstract for an IEEE-style research paper: \\n\"\n",
    "        \"Idea Description: {idea_description}\\n\"\n",
    "        \"Abstract:\"\n",
    "    ),\n",
    ")\n",
    "\n",
    "section_prompt = PromptTemplate(\n",
    "    input_variables=[\"idea_description\"],\n",
    "    template=(\n",
    "        \"You are an expert in academic writing. Based on the following idea description, generate a detailed structure for an IEEE-style research paper. Include sections: Introduction, Related Work, Problem Statement, Proposed Methodology, Experiments/Results, Conclusion, and Future Work. Provide a concise overview of what each section should contain. \\n\"\n",
    "        \"Idea Description: {idea_description}\\n\"\n",
    "        \"Paper Structure:\"\n",
    "    ),\n",
    ")\n",
    "\n",
    "# Create LLM chains\n",
    "abstract_chain = LLMChain(llm=llm, prompt=abstract_prompt)\n",
    "section_chain = LLMChain(llm=llm, prompt=section_prompt)\n",
    "\n",
    "# Combine chains into a sequential workflow\n",
    "workflow_chain = SimpleSequentialChain(chains=[abstract_chain, section_chain])\n",
    "\n",
    "# Function to generate abstract and sections\n",
    "def generate_paper_structure(idea_description):\n",
    "    results = workflow_chain.run(idea_description)\n",
    "    return results\n",
    "\n",
    "# Example usage\n",
    "if __name__ == \"__main__\":\n",
    "    idea_description = (\n",
    "        \"Developing an AI-powered tool that generates IEEE-compliant research papers from high-level ideas, \"\n",
    "        \"leveraging large language models, semantic search, and diagram generation tools.\"\n",
    "    )\n",
    "    output = generate_paper_structure(idea_description)\n",
    "    print(output)\n"
   ]
  }
 ],
 "metadata": {
  "kernelspec": {
   "display_name": "Python 3 (ipykernel)",
   "language": "python",
   "name": "python3"
  },
  "language_info": {
   "codemirror_mode": {
    "name": "ipython",
    "version": 3
   },
   "file_extension": ".py",
   "mimetype": "text/x-python",
   "name": "python",
   "nbconvert_exporter": "python",
   "pygments_lexer": "ipython3",
   "version": "3.11.5"
  }
 },
 "nbformat": 4,
 "nbformat_minor": 5
}
