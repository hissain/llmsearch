{
 "cells": [
  {
   "cell_type": "code",
   "execution_count": 7,
   "id": "db5f73ee",
   "metadata": {},
   "outputs": [
    {
     "data": {
      "text/plain": [
       "True"
      ]
     },
     "execution_count": 7,
     "metadata": {},
     "output_type": "execute_result"
    }
   ],
   "source": [
    "import os\n",
    "from dotenv import load_dotenv, get_key\n",
    "load_dotenv()"
   ]
  },
  {
   "cell_type": "code",
   "execution_count": 5,
   "id": "f436169f",
   "metadata": {},
   "outputs": [
    {
     "name": "stdout",
     "output_type": "stream",
     "text": [
      "[Tool(name='Semantic Scholar Search', description='Useful for retrieving academic references, citations, and publications.', func=<bound method SemanticScholarAPIWrapper.run of SemanticScholarAPIWrapper(semanticscholar_search=<bound method SemanticScholar.search_paper of <semanticscholar.SemanticScholar.SemanticScholar object at 0x11465d5d0>>, top_k_results=5, S2_MAX_QUERY_LENGTH=300, load_max_docs=100, doc_content_chars_max=4000, returned_fields=['title', 'abstract', 'venue', 'year', 'paperId', 'citationCount', 'openAccessPdf', 'authors', 'externalIds'])>)]\n"
     ]
    }
   ],
   "source": [
    "from langchain.agents import Tool\n",
    "from langchain_community.tools.semanticscholar.tool import SemanticScholarAPIWrapper\n",
    "\n",
    "semantic_scholar = SemanticScholarAPIWrapper()\n",
    "\n",
    "tools = []\n",
    "\n",
    "tools.append(\n",
    "   Tool(\n",
    "       name=\"Semantic Scholar Search\",\n",
    "       func=semantic_scholar.run,\n",
    "       description=\"Useful for retrieving academic references, citations, and publications.\",\n",
    "   )\n",
    ")\n",
    "\n",
    "print(tools)\n"
   ]
  },
  {
   "cell_type": "code",
   "execution_count": 24,
   "id": "1291227f",
   "metadata": {},
   "outputs": [
    {
     "name": "stdout",
     "output_type": "stream",
     "text": [
      "[Tool(name='Semantic Scholar Search', description='Useful for retrieving academic references, citations, and publications.', func=<bound method SemanticScholarAPIWrapper.run of SemanticScholarAPIWrapper(semanticscholar_search=<bound method SemanticScholar.search_paper of <semanticscholar.SemanticScholar.SemanticScholar object at 0x11465d5d0>>, top_k_results=5, S2_MAX_QUERY_LENGTH=300, load_max_docs=100, doc_content_chars_max=4000, returned_fields=['title', 'abstract', 'venue', 'year', 'paperId', 'citationCount', 'openAccessPdf', 'authors', 'externalIds'])>), Tool(name='Reference Creator', description='Create IEEE conventional reference for citation from a list of academic publications.', func=<function create_reference at 0x124326fc0>)]\n"
     ]
    }
   ],
   "source": [
    "from langchain_core.prompts import PromptTemplate\n",
    "from langchain_core.tools import StructuredTool\n",
    "\n",
    "def create_reference(publications: str) -> str:\n",
    "    \"\"\"Prepare a list of IEEE bibliograpy formatter reference from given list of publications.\"\"\"\n",
    "\n",
    "    prompt_extract = (\n",
    "        \"You are an assistant tasked with creating IEEE styled referece for citation from provided publications. \"\n",
    "        \"Now, please generate IEEE bibliography styled references for following publications.\\n\\n\"\n",
    "        \"Publications: {publications}\"\n",
    "    )\n",
    "\n",
    "    prompt = PromptTemplate.from_template(prompt_extract)\n",
    "    chain = prompt | llm\n",
    "    processed_chunks = []\n",
    "    for chunk in chunks:\n",
    "        result = chain.invoke({\"publications\": chunk})\n",
    "        processed_chunks.append(result.content)\n",
    "\n",
    "    return \"\\n\".join(processed_chunks)\n",
    "\n",
    "reference_tool = Tool(\n",
    "    name=\"Reference Creator\",\n",
    "    description=\"Create IEEE conventional reference for citation from a list of academic publications.\",\n",
    "    func=create_reference\n",
    ")\n",
    "\n",
    "tools.append(reference_tool)\n",
    "\n",
    "print(tools)"
   ]
  },
  {
   "cell_type": "code",
   "execution_count": 25,
   "id": "928f7cd4",
   "metadata": {},
   "outputs": [],
   "source": [
    "from langchain_google_genai import ChatGoogleGenerativeAI\n",
    "from langchain.agents import initialize_agent, AgentType\n",
    "\n",
    "llm = ChatGoogleGenerativeAI(\n",
    "    model=\"gemini-pro\",\n",
    "    google_api_key=os.getenv('GEMINI_API_KEY'),\n",
    "    temperature=0.1\n",
    ")\n",
    "\n",
    "agent = initialize_agent(\n",
    "    tools,\n",
    "    llm,\n",
    "    agent=AgentType.CONVERSATIONAL_REACT_DESCRIPTION,\n",
    "    max_iterations=3,\n",
    "    handle_parsing_errors=True,\n",
    "    verbose=True,\n",
    ")"
   ]
  },
  {
   "cell_type": "code",
   "execution_count": 26,
   "id": "33799649",
   "metadata": {
    "scrolled": false
   },
   "outputs": [
    {
     "name": "stdout",
     "output_type": "stream",
     "text": [
      "\n",
      "\n",
      "\u001b[1m> Entering new AgentExecutor chain...\u001b[0m\n",
      "\u001b[32;1m\u001b[1;3mThought: Do I need to use a tool? Yes\n",
      "Action: Semantic Scholar Search\n",
      "Action Input: Beamforming, point-to-point multiple-input multiple-output\u001b[0m\n",
      "Observation: \u001b[36;1m\u001b[1;3mPublished year: 2024\n",
      "Title: Joint Power Allocation and Hybrid Beamforming for Cell-Free mmWave Multiple-Input Multiple-Output with Statistical Channel State Information\n",
      "Authors: Jiawei Bai, Guangying Wang, Ming Wang, Jinjin Zhu\n",
      "Abstract: Cell-free millimeter wave (mmWave) multiple-input multiple-output (MIMO) can effectively overcome the shadow fading effect and provide macro gain to boost the throughput of communication networks. Nevertheless, the majority of the existing studies have overlooked the user-centric characteristics and practical fronthaul capacity limitations. To solve these practical problems, we introduce a resource allocation scheme using statistical channel state information (CSI) for uplink user-centric cell-free mmWave MIMO system. The hybrid beamforming (HBF) architecture is deployed at each access point (AP), while the central processing unit (CPU) only combines the received signals by the large-scale fading decoding (LSFD) method. We further frame the issue of maximizing sum-rate subject to the fronthaul capacity constraint and minimum rate constraint. Based on the alternating optimization (AO) and fractional programming method, we present an algorithm aimed at optimizing the users’ transmit power for the power allocation (PA) subproblem. Then, an algorithm relying on the majorization–minimization (MM) method is given for the HBF subproblem, which jointly optimizes the HBF and the LSFD coefficients.\n",
      "\n",
      "\n",
      "Published year: 2023\n",
      "Title: Near Optimal Hybrid Digital-Analog Beamforming for Point-to-Point MIMO-OTFS Transmissions\n",
      "Authors: Mengmeng Liu, Shuangyang Li, Zhiqiang Wei, B. Bai\n",
      "Abstract: In this paper, an orthogonal time frequency space modulation-based point-to-point multiple-input multiple-output (MIMO-OTFS) transmission is devised. Specifically, we propose a low-complexity hybrid digital-analog beamforming (HBF) scheme for MIMO-OTFS transmissions, in which symbols can be transmitted in an interference-free manner. In particular, the designed HBF scheme exploits the delay-Doppler (DD) domain path separability, which gives rise to a low-complexity DD domain precoding that can obtain a near-optimal rate performance facilitated by a path-wise power allocation. Simulation results demonstrate that the proposed HBF scheme achieves near-optimal rate and improved error performance in comparison to the singular value decomposition (SVD) precoding benchmark.\n",
      "\n",
      "\n",
      "Published year: 2015\n",
      "Title: Successive convex approximation for rate maximisation in cooperative multiple-input-multiple-output-orthogonal frequency-division multiplexing systems\n",
      "Authors: Chih-yu Hsu, Phee Lep Yeoh, B. Krongold\n",
      "Abstract: In this study, the authors propose a continuous rate and power allocation algorithm for multiuser downlink multiple-input–multiple-output orthogonal frequency-division multiplexing systems with coordinated multi-point transmission. The optimisation problem is formulated as a weighted sum-rate maximisation problem subject to per-antenna power constraints across multiple cooperating base stations (BSs). The practical consideration of the per-antenna power constraint limits the average transmit antenna power which indirectly controls the inherent issue of high peak powers in OFDM. The proposed algorithm employs a successive convex approximation (SCA) technique to dynamically allocate powers to multiple co-channel user terminals. They provide a convexity proof of the transformed optimisation problem and they show that the proposed algorithm converges to a unique solution. They compare the proposed SCA algorithm with two alternative approaches: (i) iterative waterfilling (IWF) and (ii) zero-forcing beamforming (ZFB) with semi-orthogonal user selection under both per-antenna and per-BS power constraint scenarios. Their simulation results highlight that the proposed SCA algorithm outperforms the existing IWF and ZFB in noise-limited environments under both power constraint scenarios.\n",
      "\n",
      "\n",
      "Published year: 2024\n",
      "Title: Point-to-Point MIMO\u001b[0m\n",
      "Thought:\u001b[32;1m\u001b[1;3mDo I need to use a tool? No\n",
      "AI: Here are the top three most relevant publications about Beamforming, point-to-point multiple-input multiple-output:\n",
      "\n",
      "1. **Joint Power Allocation and Hybrid Beamforming for Cell-Free mmWave Multiple-Input Multiple-Output with Statistical Channel State Information**\n",
      "   - Published year: 2024\n",
      "   - Authors: Jiawei Bai, Guangying Wang, Ming Wang, Jinjin Zhu\n",
      "   - Abstract: This paper proposes a resource allocation scheme using statistical channel state information (CSI) for uplink user-centric cell-free mmWave MIMO system. The hybrid beamforming (HBF) architecture is deployed at each access point (AP), while the central processing unit (CPU) only combines the received signals by the large-scale fading decoding (LSFD) method. We further frame the issue of maximizing sum-rate subject to the fronthaul capacity constraint and minimum rate constraint. Based on the alternating optimization (AO) and fractional programming method, we present an algorithm aimed at optimizing the users’ transmit power for the power allocation (PA) subproblem. Then, an algorithm relying on the majorization–minimization (MM) method is given for the HBF subproblem, which jointly optimizes the HBF and the LSFD coefficients.\n",
      "\n",
      "2. **Near Optimal Hybrid Digital-Analog Beamforming for Point-to-Point MIMO-OTFS Transmissions**\n",
      "   - Published year: 2023\n",
      "   - Authors: Mengmeng Liu, Shuangyang Li, Zhiqiang Wei, B. Bai\n",
      "   - Abstract: This paper devises an orthogonal time frequency space modulation-based point-to-point multiple-input multiple-output (MIMO-OTFS) transmission. Specifically, we propose a low-complexity hybrid digital-analog beamforming (HBF) scheme for MIMO-OTFS transmissions, in which symbols can be transmitted in an interference-free manner. In particular, the designed HBF scheme exploits the delay-Doppler (DD) domain path separability, which gives rise to a low-complexity DD domain precoding that can obtain a near-optimal rate performance facilitated by a path-wise power allocation. Simulation results demonstrate that the proposed HBF scheme achieves near-optimal rate and improved error performance in comparison to the singular value decomposition (SVD) precoding benchmark.\n",
      "\n",
      "3. **Successive convex approximation for rate maximisation in cooperative multiple-input-multiple-output-orthogonal frequency-division multiplexing systems**\n",
      "   - Published year: 2015\n",
      "   - Authors: Chih-yu Hsu, Phee Lep Yeoh, B. Krongold\n",
      "   - Abstract: This study proposes a continuous rate and power allocation algorithm for multiuser downlink multiple-input–multiple-output orthogonal frequency-division multiplexing systems with coordinated multi-point transmission. The optimisation problem is formulated as a weighted sum-rate maximisation problem subject to per-antenna power constraints across multiple cooperating base stations (BSs). The practical consideration of the per-antenna power constraint limits the average transmit antenna power which indirectly controls the inherent issue of high peak powers in OFDM. The proposed algorithm employs a successive convex approximation (SCA) technique to dynamically allocate powers to multiple co-channel user terminals. They provide a convexity proof of the transformed optimisation problem and they show that the proposed algorithm converges to a unique solution. They compare the proposed SCA algorithm with two alternative approaches: (i) iterative waterfilling (IWF) and (ii) zero-forcing beamforming (ZFB) with semi-orthogonal user selection under both per-antenna and per-BS power constraint scenarios. Their simulation results highlight that the proposed SCA algorithm outperforms the existing IWF and ZFB in noise-limited environments under both power constraint scenarios.\u001b[0m\n",
      "\n",
      "\u001b[1m> Finished chain.\u001b[0m\n",
      "Final Content for Query: Here are the top three most relevant publications about Beamforming, point-to-point multiple-input multiple-output:\n",
      "\n",
      "1. **Joint Power Allocation and Hybrid Beamforming for Cell-Free mmWave Multiple-Input Multiple-Output with Statistical Channel State Information**\n",
      "   - Published year: 2024\n",
      "   - Authors: Jiawei Bai, Guangying Wang, Ming Wang, Jinjin Zhu\n",
      "   - Abstract: This paper proposes a resource allocation scheme using statistical channel state information (CSI) for uplink user-centric cell-free mmWave MIMO system. The hybrid beamforming (HBF) architecture is deployed at each access point (AP), while the central processing unit (CPU) only combines the received signals by the large-scale fading decoding (LSFD) method. We further frame the issue of maximizing sum-rate subject to the fronthaul capacity constraint and minimum rate constraint. Based on the alternating optimization (AO) and fractional programming method, we present an algorithm aimed at optimizing the users’ transmit power for the power allocation (PA) subproblem. Then, an algorithm relying on the majorization–minimization (MM) method is given for the HBF subproblem, which jointly optimizes the HBF and the LSFD coefficients.\n",
      "\n",
      "2. **Near Optimal Hybrid Digital-Analog Beamforming for Point-to-Point MIMO-OTFS Transmissions**\n",
      "   - Published year: 2023\n",
      "   - Authors: Mengmeng Liu, Shuangyang Li, Zhiqiang Wei, B. Bai\n",
      "   - Abstract: This paper devises an orthogonal time frequency space modulation-based point-to-point multiple-input multiple-output (MIMO-OTFS) transmission. Specifically, we propose a low-complexity hybrid digital-analog beamforming (HBF) scheme for MIMO-OTFS transmissions, in which symbols can be transmitted in an interference-free manner. In particular, the designed HBF scheme exploits the delay-Doppler (DD) domain path separability, which gives rise to a low-complexity DD domain precoding that can obtain a near-optimal rate performance facilitated by a path-wise power allocation. Simulation results demonstrate that the proposed HBF scheme achieves near-optimal rate and improved error performance in comparison to the singular value decomposition (SVD) precoding benchmark.\n",
      "\n",
      "3. **Successive convex approximation for rate maximisation in cooperative multiple-input-multiple-output-orthogonal frequency-division multiplexing systems**\n",
      "   - Published year: 2015\n",
      "   - Authors: Chih-yu Hsu, Phee Lep Yeoh, B. Krongold\n",
      "   - Abstract: This study proposes a continuous rate and power allocation algorithm for multiuser downlink multiple-input–multiple-output orthogonal frequency-division multiplexing systems with coordinated multi-point transmission. The optimisation problem is formulated as a weighted sum-rate maximisation problem subject to per-antenna power constraints across multiple cooperating base stations (BSs). The practical consideration of the per-antenna power constraint limits the average transmit antenna power which indirectly controls the inherent issue of high peak powers in OFDM. The proposed algorithm employs a successive convex approximation (SCA) technique to dynamically allocate powers to multiple co-channel user terminals. They provide a convexity proof of the transformed optimisation problem and they show that the proposed algorithm converges to a unique solution. They compare the proposed SCA algorithm with two alternative approaches: (i) iterative waterfilling (IWF) and (ii) zero-forcing beamforming (ZFB) with semi-orthogonal user selection under both per-antenna and per-BS power constraint scenarios. Their simulation results highlight that the proposed SCA algorithm outperforms the existing IWF and ZFB in noise-limited environments under both power constraint scenarios.\n"
     ]
    }
   ],
   "source": [
    "chat_history = []\n",
    "user_input = \"Can you find top three most relevant publications about Beamforming, point-to-point multiple-input multiple-output?\"\n",
    "response = agent.run(input=user_input, chat_history=chat_history)\n",
    "chat_history.append((\"User: \" + user_input, \"Agent: \" + response))\n",
    "\n",
    "print(\"Final Content for Query:\", response)"
   ]
  }
 ],
 "metadata": {
  "kernelspec": {
   "display_name": "Python 3 (ipykernel)",
   "language": "python",
   "name": "python3"
  },
  "language_info": {
   "codemirror_mode": {
    "name": "ipython",
    "version": 3
   },
   "file_extension": ".py",
   "mimetype": "text/x-python",
   "name": "python",
   "nbconvert_exporter": "python",
   "pygments_lexer": "ipython3",
   "version": "3.11.5"
  }
 },
 "nbformat": 4,
 "nbformat_minor": 5
}
