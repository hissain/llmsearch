{
 "cells": [
  {
   "cell_type": "code",
   "execution_count": 1,
   "id": "527a261a",
   "metadata": {},
   "outputs": [
    {
     "data": {
      "text/plain": [
       "True"
      ]
     },
     "execution_count": 1,
     "metadata": {},
     "output_type": "execute_result"
    }
   ],
   "source": [
    "import os\n",
    "from dotenv import load_dotenv, get_key\n",
    "load_dotenv()"
   ]
  },
  {
   "cell_type": "code",
   "execution_count": 2,
   "id": "6aea2ed7",
   "metadata": {},
   "outputs": [],
   "source": [
    "#pip install duckduckgo-search langchain langchain-google-genai\n",
    "#pip install wikipedia\n",
    "#pip install duckduckgo-search\n",
    "#pip install arxiv\n",
    "#pip install youtube"
   ]
  },
  {
   "cell_type": "code",
   "execution_count": 3,
   "id": "a701c46a",
   "metadata": {},
   "outputs": [],
   "source": [
    "from langchain_google_genai import ChatGoogleGenerativeAI\n",
    "llm = ChatGoogleGenerativeAI(\n",
    "    model=\"gemini-pro\",\n",
    "    google_api_key=os.getenv('GEMINI_API_KEY'),\n",
    "    temperature=0.1\n",
    ")"
   ]
  },
  {
   "cell_type": "code",
   "execution_count": 4,
   "id": "42f68217",
   "metadata": {},
   "outputs": [
    {
     "name": "stdout",
     "output_type": "stream",
     "text": [
      "[Tool(name='DuckDuckGo Search', description='Useful to browse information from the Internet.', func=<bound method BaseTool.run of DuckDuckGoSearchRun(api_wrapper=DuckDuckGoSearchAPIWrapper(region='wt-wt', safesearch='moderate', time='y', max_results=5, backend='api', source='text'))>), Tool(name='Wikipedia Search', description='Useful when users request about well known things.', func=<bound method BaseTool.run of WikipediaQueryRun(api_wrapper=WikipediaAPIWrapper(wiki_client=<module 'wikipedia' from '/Users/hissain/anaconda3/lib/python3.11/site-packages/wikipedia/__init__.py'>, top_k_results=3, lang='en', load_all_available_meta=False, doc_content_chars_max=4000))>), Tool(name='Youtube Search', description='Useful for when the user explicitly asks you to look on Youtube or Videos.', func=<bound method BaseTool.run of YouTubeSearchTool()>), Tool(name='arxiv Search', description='Useful for when the user ask for publications, paper, journal or academic research works.', func=<bound method BaseTool.run of ArxivQueryRun(api_wrapper=ArxivAPIWrapper(arxiv_search=<class 'arxiv.Search'>, arxiv_exceptions=(<class 'arxiv.ArxivError'>, <class 'arxiv.UnexpectedEmptyPageError'>, <class 'arxiv.HTTPError'>), top_k_results=3, ARXIV_MAX_QUERY_LENGTH=300, continue_on_failure=False, load_max_docs=100, load_all_available_meta=False, doc_content_chars_max=4000))>)]\n"
     ]
    }
   ],
   "source": [
    "from langchain.agents import Tool\n",
    "from langchain.tools import WikipediaQueryRun\n",
    "from langchain.utilities import WikipediaAPIWrapper\n",
    "from langchain.tools import DuckDuckGoSearchRun\n",
    "from langchain.tools import YouTubeSearchTool, ArxivQueryRun\n",
    "\n",
    "ddgs = DuckDuckGoSearchRun()\n",
    "wikipedia = WikipediaQueryRun(api_wrapper=WikipediaAPIWrapper())\n",
    "youtube = YouTubeSearchTool()\n",
    "arxiv = ArxivQueryRun()\n",
    "\n",
    "tools = []\n",
    "\n",
    "tools.append(\n",
    "   Tool(\n",
    "       name=\"DuckDuckGo Search\",\n",
    "       func=ddgs.run,\n",
    "       description=\"Useful to browse information from the Internet.\",\n",
    "   )\n",
    ")\n",
    "\n",
    "tools.append(\n",
    "   Tool(\n",
    "       name=\"Wikipedia Search\",\n",
    "       func=wikipedia.run,\n",
    "       description=\"Useful when users request about well known things.\",\n",
    "   )\n",
    ")\n",
    "\n",
    "tools.append(\n",
    "   Tool(\n",
    "       name=\"Youtube Search\",\n",
    "       func=youtube.run,\n",
    "       description=\"Useful for when the user explicitly asks you to look on Youtube or Videos.\",\n",
    "   )\n",
    ")\n",
    "\n",
    "tools.append(\n",
    "   Tool(\n",
    "       name=\"arxiv Search\",\n",
    "       func=arxiv.run,\n",
    "       description=\"Useful for when the user ask for publications, paper, journal or academic research works.\",\n",
    "   )\n",
    ")\n",
    "\n",
    "print(tools)"
   ]
  },
  {
   "cell_type": "code",
   "execution_count": 5,
   "id": "0e052b56",
   "metadata": {},
   "outputs": [
    {
     "name": "stdout",
     "output_type": "stream",
     "text": [
      "[Tool(name='DuckDuckGo Search', description='Useful to browse information from the Internet.', func=<bound method BaseTool.run of DuckDuckGoSearchRun(api_wrapper=DuckDuckGoSearchAPIWrapper(region='wt-wt', safesearch='moderate', time='y', max_results=5, backend='api', source='text'))>), Tool(name='Wikipedia Search', description='Useful when users request about well known things.', func=<bound method BaseTool.run of WikipediaQueryRun(api_wrapper=WikipediaAPIWrapper(wiki_client=<module 'wikipedia' from '/Users/hissain/anaconda3/lib/python3.11/site-packages/wikipedia/__init__.py'>, top_k_results=3, lang='en', load_all_available_meta=False, doc_content_chars_max=4000))>), Tool(name='Youtube Search', description='Useful for when the user explicitly asks you to look on Youtube or Videos.', func=<bound method BaseTool.run of YouTubeSearchTool()>), Tool(name='arxiv Search', description='Useful for when the user ask for publications, paper, journal or academic research works.', func=<bound method BaseTool.run of ArxivQueryRun(api_wrapper=ArxivAPIWrapper(arxiv_search=<class 'arxiv.Search'>, arxiv_exceptions=(<class 'arxiv.ArxivError'>, <class 'arxiv.UnexpectedEmptyPageError'>, <class 'arxiv.HTTPError'>), top_k_results=3, ARXIV_MAX_QUERY_LENGTH=300, continue_on_failure=False, load_max_docs=100, load_all_available_meta=False, doc_content_chars_max=4000))>), Tool(name='Article Extractor', description='Extract the main article content from a given URL when asked.', func=<function extract_article at 0x107818cc0>)]\n"
     ]
    }
   ],
   "source": [
    "from langchain_core.prompts import PromptTemplate\n",
    "from langchain_core.tools import StructuredTool\n",
    "from readability import Document as ReadabilityDocument\n",
    "from bs4 import BeautifulSoup\n",
    "import requests\n",
    "import os\n",
    "\n",
    "def split_text(text: str, max_length: int) -> list[str]:\n",
    "    \"\"\"Split the text into manageable chunks.\"\"\"\n",
    "    sentences = text.split(\". \")\n",
    "    chunks = []\n",
    "    current_chunk = []\n",
    "    current_length = 0\n",
    "\n",
    "    for sentence in sentences:\n",
    "        sentence_length = len(sentence) + 2\n",
    "        if current_length + sentence_length > max_length:\n",
    "            chunks.append(\". \".join(current_chunk) + \".\")\n",
    "            current_chunk = []\n",
    "            current_length = 0\n",
    "        current_chunk.append(sentence)\n",
    "        current_length += sentence_length\n",
    "\n",
    "    if current_chunk:\n",
    "        chunks.append(\". \".join(current_chunk) + \".\")\n",
    "\n",
    "    return chunks\n",
    "\n",
    "\n",
    "def extract_article(url: str) -> str:\n",
    "    \"\"\"Extract the main article content from a given URL.\"\"\"\n",
    "    response = requests.get(url)\n",
    "    if response.status_code != 200:\n",
    "        print(response.status_code)\n",
    "        return None\n",
    "\n",
    "    doc = ReadabilityDocument(response.text)\n",
    "    raw_html = doc.summary()\n",
    "    soup = BeautifulSoup(raw_html, \"html.parser\")\n",
    "    plain_text = soup.get_text(separator=\"\\n\")\n",
    "    chunks = split_text(plain_text, 4000)\n",
    "    prompt_extract = (\n",
    "        \"You are an assistant tasked with extracting the main article text from the provided content. \"\n",
    "        \"The input may include noise like HTML tags or unrelated content. \"\n",
    "        \"Do not add any extra response except the extracted text. \"\n",
    "        \"Please clean the text and return the readable article content in a single paragraph format.\\n\\n\"\n",
    "        \"Content: {content}\"\n",
    "    )\n",
    "\n",
    "    prompt = PromptTemplate.from_template(prompt_extract)\n",
    "    chain = prompt | llm\n",
    "    processed_chunks = []\n",
    "    for chunk in chunks:\n",
    "        result = chain.invoke({\"content\": chunk})\n",
    "        processed_chunks.append(result.content)\n",
    "\n",
    "    return \"\\n\".join(processed_chunks)\n",
    "\n",
    "extractor_tool = Tool(\n",
    "    name=\"Article Extractor\",\n",
    "    description=\"Extract the main article content from a given URL when asked.\",\n",
    "    func=extract_article\n",
    ")\n",
    "\n",
    "tools.append(extractor_tool)\n",
    "\n",
    "print(tools)"
   ]
  },
  {
   "cell_type": "code",
   "execution_count": 6,
   "id": "55ce68f9",
   "metadata": {},
   "outputs": [
    {
     "name": "stdout",
     "output_type": "stream",
     "text": [
      "[Tool(name='DuckDuckGo Search', description='Useful to browse information from the Internet.', func=<bound method BaseTool.run of DuckDuckGoSearchRun(api_wrapper=DuckDuckGoSearchAPIWrapper(region='wt-wt', safesearch='moderate', time='y', max_results=5, backend='api', source='text'))>), Tool(name='Wikipedia Search', description='Useful when users request about well known things.', func=<bound method BaseTool.run of WikipediaQueryRun(api_wrapper=WikipediaAPIWrapper(wiki_client=<module 'wikipedia' from '/Users/hissain/anaconda3/lib/python3.11/site-packages/wikipedia/__init__.py'>, top_k_results=3, lang='en', load_all_available_meta=False, doc_content_chars_max=4000))>), Tool(name='Youtube Search', description='Useful for when the user explicitly asks you to look on Youtube or Videos.', func=<bound method BaseTool.run of YouTubeSearchTool()>), Tool(name='arxiv Search', description='Useful for when the user ask for publications, paper, journal or academic research works.', func=<bound method BaseTool.run of ArxivQueryRun(api_wrapper=ArxivAPIWrapper(arxiv_search=<class 'arxiv.Search'>, arxiv_exceptions=(<class 'arxiv.ArxivError'>, <class 'arxiv.UnexpectedEmptyPageError'>, <class 'arxiv.HTTPError'>), top_k_results=3, ARXIV_MAX_QUERY_LENGTH=300, continue_on_failure=False, load_max_docs=100, load_all_available_meta=False, doc_content_chars_max=4000))>), Tool(name='Article Extractor', description='Extract the main article content from a given URL when asked.', func=<function extract_article at 0x107818cc0>), Tool(name='summarizing tool', description='When asked for summarizing, summarizes the articles or documents using MapReduce.', func=<function mapreduce_summarize_tool at 0x11aae1c60>)]\n"
     ]
    }
   ],
   "source": [
    "from langchain.chains.summarize import load_summarize_chain\n",
    "from langchain.docstore.document import Document\n",
    "\n",
    "def mapreduce_summarize_tool(input_text: str) -> str:\n",
    "    document = Document(page_content=input_text)\n",
    "    summarize_chain = load_summarize_chain(llm, chain_type=\"map_reduce\")\n",
    "    summary = summarize_chain.run([document])\n",
    "    return summary\n",
    "\n",
    "summarize_tool = Tool(\n",
    "    name=\"summarizing tool\",\n",
    "    description=\"When asked for summarizing, summarizes the articles or documents using MapReduce.\",\n",
    "    func=mapreduce_summarize_tool,\n",
    ")\n",
    "\n",
    "tools.append(summarize_tool)\n",
    "\n",
    "print(tools)"
   ]
  },
  {
   "cell_type": "code",
   "execution_count": 13,
   "id": "4a8eb5a9",
   "metadata": {},
   "outputs": [],
   "source": [
    "from langchain.agents import initialize_agent, AgentType\n",
    "\n",
    "agent = initialize_agent(\n",
    "    tools,\n",
    "    llm,\n",
    "    agent=AgentType.ZERO_SHOT_REACT_DESCRIPTION,\n",
    "    handle_parsing_errors=True,\n",
    "    verbose=True,\n",
    ")"
   ]
  },
  {
   "cell_type": "code",
   "execution_count": 11,
   "id": "2df3761f",
   "metadata": {
    "scrolled": false
   },
   "outputs": [
    {
     "name": "stdout",
     "output_type": "stream",
     "text": [
      "\n",
      "\n",
      "\u001b[1m> Entering new AgentExecutor chain...\u001b[0m\n",
      "\u001b[32;1m\u001b[1;3mI should search the web for the latest news on wearable technology.\n",
      "Action: DuckDuckGo Search\n",
      "Action Input: latest news on wearable technology\u001b[0m"
     ]
    },
    {
     "name": "stderr",
     "output_type": "stream",
     "text": [
      "/Users/hissain/anaconda3/lib/python3.11/site-packages/langchain_community/utilities/duckduckgo_search.py:64: UserWarning: 'api' backend is deprecated, using backend='auto'\n",
      "  ddgs_gen = ddgs.text(\n"
     ]
    },
    {
     "name": "stdout",
     "output_type": "stream",
     "text": [
      "\n",
      "Observation: \u001b[36;1m\u001b[1;3mWearable technology · Why are doctors wary of wearables? · Improved privacy for children's wristband scheme · Fitbit denies update made devices unusable · Google's ... Find the latest Wearables news from WIRED. See related science and technology articles, photos, slideshows and videos. The latest news and comment on wearable technology. ... Tech · Global development · Obituaries. Wearable technology. The latest news and comment on wearable ... Latest Headlines · Generating Electricity from Device On Clothes · Temp-Controlled Clothing: Squid-Inspired Fabric · Smart Fabric Converts Body Heat Into ... Wearables News · OnePlus Buds Ace 2 With 12.4mm Drivers, Up to 43 Hours Total Battery Life Launched: Price, Features · Boat Enigma Daze, Enigma Gem Smartwatches ...\u001b[0m\n",
      "Thought:\u001b[32;1m\u001b[1;3mThe latest news on wearable technology includes the release of new products, such as the OnePlus Buds Ace 2 and the Boat Enigma Daze and Enigma Gem smartwatches. There are also new developments in the field, such as the development of smart fabrics that can convert body heat into electricity.\n",
      "Final Answer: The latest news on wearable technology includes the release of new products, such as the OnePlus Buds Ace 2 and the Boat Enigma Daze and Enigma Gem smartwatches. There are also new developments in the field, such as the development of smart fabrics that can convert body heat into electricity.\u001b[0m\n",
      "\n",
      "\u001b[1m> Finished chain.\u001b[0m\n",
      "The latest news on wearable technology includes the release of new products, such as the OnePlus Buds Ace 2 and the Boat Enigma Daze and Enigma Gem smartwatches. There are also new developments in the field, such as the development of smart fabrics that can convert body heat into electricity.\n"
     ]
    }
   ],
   "source": [
    "response = agent.run(\"What is the latest news on wearable technology?\")\n",
    "print(response)"
   ]
  },
  {
   "cell_type": "code",
   "execution_count": 14,
   "id": "fbbe125b",
   "metadata": {
    "scrolled": false
   },
   "outputs": [
    {
     "name": "stdout",
     "output_type": "stream",
     "text": [
      "\n",
      "\n",
      "\u001b[1m> Entering new AgentExecutor chain...\u001b[0m\n",
      "\u001b[32;1m\u001b[1;3mI should search for the latest publication on Beamforming on arxiv.\n",
      "Action: arxiv Search\n",
      "Action Input: What is the latest publication on Beamforming?\u001b[0m\n",
      "Observation: \u001b[36;1m\u001b[1;3mPublished: 2017-09-09\n",
      "Title: Optimization of Massive Full-Dimensional MIMO for Positioning and Communication\n",
      "Authors: Seongah Jeong, Osvaldo Simeone, Joonhyuk Kang\n",
      "Summary: Massive Full-Dimensional multiple-input multiple-output (FD-MIMO) base\n",
      "stations (BSs) have the potential to bring multiplexing and coverage gains by\n",
      "means of three-dimensional (3D) beamforming. Key technical challenges for their\n",
      "deployment include the presence of limited-resolution front ends and the\n",
      "acquisition of channel state information (CSI) at the BSs. This paper\n",
      "investigates the use of FD-MIMO BSs to provide simultaneously high-rate data\n",
      "communication and mobile 3D positioning in the downlink. The analysis\n",
      "concentrates on the problem of beamforming design by accounting for imperfect\n",
      "CSI acquisition via Time Division Duplex (TDD)-based training and for the\n",
      "finite resolution of analog-to-digital converter (ADC) and digital-to-analog\n",
      "converter (DAC) at the BSs. Both \\textit{unstructured beamforming} and a\n",
      "low-complexity \\textit{Kronecker beamforming} solution are considered, where\n",
      "for the latter the beamforming vectors are decomposed into separate azimuth and\n",
      "elevation components. The proposed algorithmic solutions are based on Bussgang\n",
      "theorem, rank-relaxation and successive convex approximation (SCA) methods.\n",
      "Comprehensive numerical results demonstrate that the proposed schemes can\n",
      "effectively cater to both data communication and positioning services,\n",
      "providing only minor performance degradations as compared to the more\n",
      "conventional cases in which either function is implemented. Moreover, the\n",
      "proposed low-complexity Kronecker beamforming solutions are seen to guarantee a\n",
      "limited performance loss in the presence of a large number of BS antennas.\n",
      "\n",
      "Published: 2020-08-06\n",
      "Title: IEEE 802.11be: Wi-Fi 7 Strikes Back\n",
      "Authors: Adrian Garcia-Rodriguez, David Lopez-Perez, Lorenzo Galati-Giordano, Giovanni Geraci\n",
      "Summary: As hordes of data-hungry devices challenge its current capabilities, Wi-Fi\n",
      "strikes back with 802.11be, alias Wi-Fi 7. This brand-new amendment promises a\n",
      "(r)evolution of unlicensed wireless connectivity as we know it. With its\n",
      "standardisation process being consolidated, we provide an updated digest of\n",
      "802.11be essential features, vouching for multi-AP coordination as a must-have\n",
      "for critical and latency-sensitive applications. We then get down to the\n",
      "nitty-gritty of one of its most enticing implementations-coordinated\n",
      "beamforming-, for which our standard-compliant simulations confirm near-tenfold\n",
      "reductions in worst-case delays.\n",
      "\n",
      "Published: 2014-12-18\n",
      "Title: Optimized Training Design for Wireless Energy Transfer\n",
      "Authors: Yong Zeng, Rui Zhang\n",
      "Summary: Radio-frequency (RF) enabled wireless energy transfer (WET), as a promising\n",
      "solution to provide cost-effective and reliable power supplies for\n",
      "energy-constrained wireless networks, has drawn growing interests recently. To\n",
      "overcome the significant propagation loss over distance, employing\n",
      "multi-antennas at the energy transmitter (ET) to more efficiently direct\n",
      "wireless energy to desired energy receivers (ERs), termed \\emph{energy\n",
      "beamforming}, is an essential technique for enabling WET. However, the\n",
      "achievable gain of energy beamforming crucially depends on the available\n",
      "channel state information (CSI) at the ET, which needs to be acquired\n",
      "practically. In this paper, we study the design of an efficient channel\n",
      "acquisition method for a point-to-point multiple-input multiple-output (MIMO)\n",
      "WET system by exploiting the channel reciprocity, i.e., the ET estimates the\n",
      "CSI via dedicated reverse-link training from the ER. Considering the limited\n",
      "energy availability at the ER, the training strategy should be carefully\n",
      "designed so that the channel can be estimated with sufficient accuracy, and yet\n",
      "without consuming excessive energy at the ER. To this end, we propose to\n",
      "maximize the \\emph{net} harvested energy at the ER, which is the average\n",
      "harvested energy offset by that used for channel training. An optimiza\u001b[0m\n",
      "Thought:\u001b[32;1m\u001b[1;3mI now know the final answer\n",
      "Final Answer: The latest publication on Beamforming is \"IEEE 802.11be: Wi-Fi 7 Strikes Back\" by Adrian Garcia-Rodriguez, David Lopez-Perez, Lorenzo Galati-Giordano, and Giovanni Geraci, published on August 6, 2020.\u001b[0m\n",
      "\n",
      "\u001b[1m> Finished chain.\u001b[0m\n",
      "The latest publication on Beamforming is \"IEEE 802.11be: Wi-Fi 7 Strikes Back\" by Adrian Garcia-Rodriguez, David Lopez-Perez, Lorenzo Galati-Giordano, and Giovanni Geraci, published on August 6, 2020.\n"
     ]
    }
   ],
   "source": [
    "response = agent.run(\"What is the latest publication on Beamforming?\")\n",
    "print(response)"
   ]
  },
  {
   "cell_type": "code",
   "execution_count": 9,
   "id": "f96e92e8",
   "metadata": {},
   "outputs": [
    {
     "name": "stdout",
     "output_type": "stream",
     "text": [
      "\n",
      "\n",
      "\u001b[1m> Entering new AgentExecutor chain...\u001b[0m\n",
      "\u001b[32;1m\u001b[1;3mI should use the Article Extractor to get the main content of the article\n",
      "Action: Article Extractor\n",
      "Action Input: https://www.bbc.com/news/articles/crk01exykx4o\u001b[0m\n",
      "Observation: \u001b[33;1m\u001b[1;3m\n",
      "For the Turas family, this Christmas marks their first together, with little Leon's greatest gift being his father's presence. However, many Ukrainians remain in desperate anticipation of news about their loved ones. In Kyiv, relatives and activists gather for a Christmas demonstration, pleading for the release of Ukrainian prisoners. They endure the freezing cold, lining a main street as motorists express solidarity with deafening honks. Tetiana, whose son Artem has been captive for nearly three years, hopes for a Christmas miracle and envisions their reunion. Liliya Ivashchyk, a ballet dancer, holds a placard for her boyfriend Bohdan, captured by Russian forces in 2022. Despite sending daily messages, she has had no contact with him. Backstage, she shares her messages and expresses her longing for his freedom. The Christmas holidays bring pain, but Ukrainians find solace in the Blue Danube Waltz, a festive favorite that once lifted spirits after a war. As the show ends, theatergoers collect their coats, each carrying the weight of loved ones fighting, captive, or lost in the ongoing conflict.\u001b[0m\n",
      "Thought:\u001b[32;1m\u001b[1;3mI should now use the summarizing tool to summarize the extracted article\n",
      "Action: summarizing tool\n",
      "Action Input: \n",
      "For the Turas family, this Christmas marks their first together, with little Leon's greatest gift being his father's presence. However, many Ukrainians remain in desperate anticipation of news about their loved ones. In Kyiv, relatives and activists gather for a Christmas demonstration, pleading for the release of Ukrainian prisoners. They endure the freezing cold, lining a main street as motorists express solidarity with deafening honks. Tetiana, whose son Artem has been captive for nearly three years, hopes for a Christmas miracle and envisions their reunion. Liliya Ivashchyk, a ballet dancer, holds a placard for her boyfriend Bohdan, captured by Russian forces in 2022. Despite sending daily messages, she has had no contact with him. Backstage, she shares her messages and expresses her longing for his freedom. The Christmas holidays bring pain, but Ukrainians find solace in the Blue Danube Waltz, a festive favorite that once lifted spirits after a war. As the show ends, theatergoers collect their coats, each carrying the weight of loved ones fighting, captive, or lost in the ongoing conflict.\u001b[0m\n",
      "Observation: \u001b[38;5;200m\u001b[1;3mChristmas evokes contrasting emotions in Ukraine: joy for reunited families but anguish for those with loved ones held captive by Russia. A Kyiv demonstration demands the release of Ukrainian prisoners, while the Blue Danube Waltz provides solace and resilience amidst the conflict.\u001b[0m\n",
      "Thought:\u001b[32;1m\u001b[1;3mI now know the final answer\n",
      "Final Answer: Christmas brings mixed emotions in Ukraine: joy for reunited families, but anguish for those with loved ones held captive by Russia. A Kyiv demonstration demands the release of Ukrainian prisoners, while the Blue Danube Waltz provides solace and resilience amidst the conflict.\u001b[0m\n",
      "\n",
      "\u001b[1m> Finished chain.\u001b[0m\n",
      "Christmas brings mixed emotions in Ukraine: joy for reunited families, but anguish for those with loved ones held captive by Russia. A Kyiv demonstration demands the release of Ukrainian prisoners, while the Blue Danube Waltz provides solace and resilience amidst the conflict.\n"
     ]
    }
   ],
   "source": [
    "response = agent.run(\"Summarise the article, https://www.bbc.com/news/articles/crk01exykx4o\")\n",
    "print(response)"
   ]
  },
  {
   "cell_type": "code",
   "execution_count": 10,
   "id": "def42936",
   "metadata": {},
   "outputs": [
    {
     "name": "stdout",
     "output_type": "stream",
     "text": [
      "\n",
      "\n",
      "\u001b[1m> Entering new AgentExecutor chain...\u001b[0m\n",
      "\u001b[32;1m\u001b[1;3mI should extract the main article content from the given URL\n",
      "Action: Article Extractor\n",
      "Action Input: https://www.bbc.com/news/articles/crk01exykx4o\u001b[0m\n",
      "Observation: \u001b[33;1m\u001b[1;3mA Ukrainian official anticipates a New Year prisoner exchange with Russia \"any day,\" despite the possibility of last-minute cancellations. Negotiations have been challenging due to Russia's recent battlefield gains. Ukraine holds over 8,000 prisoners of war, and Russia has made significant advances, raising concerns about increased captures. Ukrainian marine Andriy Turas, captured in Mariupol in 2022, recounts the torture and abuse he endured in Russian captivity. His wife, Lena, also captured, was released after two weeks but remains psychologically scarred. Andriy was released in September and met his two-year-old son, Leon, for the first time. International organizations corroborate their accounts, alleging widespread torture and ill-treatment of Ukrainian prisoners by Russia. The Russian Embassy denies these allegations, claiming humane treatment and compliance with international law.\n",
      "For the Turas family, this Christmas marks their first together, with little Leon's greatest gift being his father's return home. However, many Ukrainians remain in desperate anticipation of news about their loved ones. In Kyiv, relatives and activists gather for a Christmas demonstration, pleading for the release of Ukrainian prisoners. They endure the freezing cold, lining a main street as motorists express solidarity with deafening honks. Tetiana, whose son Artem has been captive for nearly three years, hopes for a Christmas miracle and envisions their reunion. Liliya Ivashchyk, a ballet dancer, holds a placard for her boyfriend Bohdan, who was captured in 2022. Despite sending daily messages, she has had no contact with him. Amidst the festive atmosphere of the theater, Liliya performs the Blue Danube Waltz, a symbol of resilience during wartime. As the show concludes, theatergoers gather their belongings, each carrying the weight of loved ones on the frontline, in captivity, or lost in action. Ukrainians strive to maintain the Christmas spirit, acknowledging the sacrifices made by their army and the hope for future reunions.\u001b[0m\n",
      "Thought:\u001b[32;1m\u001b[1;3mI now know the final answer\n",
      "Final Answer: A Ukrainian official anticipates a New Year prisoner exchange with Russia \"any day,\" despite the possibility of last-minute cancellations. Negotiations have been challenging due to Russia's recent battlefield gains. Ukraine holds over 8,000 prisoners of war, and Russia has made significant advances, raising concerns about increased captures. Ukrainian marine Andriy Turas, captured in Mariupol in 2022, recounts the torture and abuse he endured in Russian captivity. His wife, Lena, also captured, was released after two weeks but remains psychologically scarred. Andriy was released in September and met his two-year-old son, Leon, for the first time. International organizations corroborate their accounts, alleging widespread torture and ill-treatment of Ukrainian prisoners by Russia. The Russian Embassy denies these allegations, claiming humane treatment and compliance with international law. For the Turas family, this Christmas marks their first together, with little Leon's greatest gift being his father's return home. However, many Ukrainians remain in desperate anticipation of news about their loved ones. In Kyiv, relatives and activists gather for a Christmas demonstration, pleading for the release of Ukrainian prisoners. They endure the freezing cold, lining a main street as motorists express solidarity with deafening honks. Tetiana, whose son Artem has been captive for nearly three years, hopes for a Christmas miracle and envisions their reunion. Liliya Ivashchyk, a ballet dancer, holds a placard for her boyfriend Bohdan, who was captured in 2022. Despite sending daily messages, she has had no contact with him. Amidst the festive atmosphere of the theater, Liliya performs the Blue Danube Waltz, a symbol of resilience during wartime. As the show concludes, theatergoers gather their belongings, each carrying the weight of loved ones on the frontline, in captivity, or lost in action. Ukrainians strive to maintain the Christmas spirit, acknowledging the sacrifices made by their army and the hope for future reunions.\u001b[0m\n",
      "\n",
      "\u001b[1m> Finished chain.\u001b[0m\n",
      "A Ukrainian official anticipates a New Year prisoner exchange with Russia \"any day,\" despite the possibility of last-minute cancellations. Negotiations have been challenging due to Russia's recent battlefield gains. Ukraine holds over 8,000 prisoners of war, and Russia has made significant advances, raising concerns about increased captures. Ukrainian marine Andriy Turas, captured in Mariupol in 2022, recounts the torture and abuse he endured in Russian captivity. His wife, Lena, also captured, was released after two weeks but remains psychologically scarred. Andriy was released in September and met his two-year-old son, Leon, for the first time. International organizations corroborate their accounts, alleging widespread torture and ill-treatment of Ukrainian prisoners by Russia. The Russian Embassy denies these allegations, claiming humane treatment and compliance with international law. For the Turas family, this Christmas marks their first together, with little Leon's greatest gift being his father's return home. However, many Ukrainians remain in desperate anticipation of news about their loved ones. In Kyiv, relatives and activists gather for a Christmas demonstration, pleading for the release of Ukrainian prisoners. They endure the freezing cold, lining a main street as motorists express solidarity with deafening honks. Tetiana, whose son Artem has been captive for nearly three years, hopes for a Christmas miracle and envisions their reunion. Liliya Ivashchyk, a ballet dancer, holds a placard for her boyfriend Bohdan, who was captured in 2022. Despite sending daily messages, she has had no contact with him. Amidst the festive atmosphere of the theater, Liliya performs the Blue Danube Waltz, a symbol of resilience during wartime. As the show concludes, theatergoers gather their belongings, each carrying the weight of loved ones on the frontline, in captivity, or lost in action. Ukrainians strive to maintain the Christmas spirit, acknowledging the sacrifices made by their army and the hope for future reunions.\n"
     ]
    }
   ],
   "source": [
    "response = agent.run(\"https://www.bbc.com/news/articles/crk01exykx4o\")\n",
    "print(response)"
   ]
  }
 ],
 "metadata": {
  "kernelspec": {
   "display_name": "Python 3 (ipykernel)",
   "language": "python",
   "name": "python3"
  },
  "language_info": {
   "codemirror_mode": {
    "name": "ipython",
    "version": 3
   },
   "file_extension": ".py",
   "mimetype": "text/x-python",
   "name": "python",
   "nbconvert_exporter": "python",
   "pygments_lexer": "ipython3",
   "version": "3.11.5"
  }
 },
 "nbformat": 4,
 "nbformat_minor": 5
}
